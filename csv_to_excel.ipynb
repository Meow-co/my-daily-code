{
 "cells": [
  {
   "cell_type": "code",
   "execution_count": 26,
   "source": [
    "#excel和csv互相转换的代码\n",
    "#For my daily use only  \n",
    "from pandas.io.excel import ExcelWriter\n",
    "import pandas as pd"
   ],
   "outputs": [],
   "metadata": {}
  },
  {
   "cell_type": "code",
   "execution_count": 29,
   "source": [
    "def csv_to_xlsx_pd(excel_file,csv_file):\n",
    "    #写入源.csv文件\n",
    "    excel_file = ('''%s''' %(excel_file))\n",
    "    csv_file = ('''%s''' %(csv_file))\n",
    "    #csv = pd.read_csv('/Users/minli/Desktop/_select_from_select_select_distinct_ecom_site_id_from_gnpd_his_h_202108171759.csv', encoding='utf-8')\n",
    "    #csv.to_excel('/Users/minli/Desktop/tosql.xlsx', sheet_name='data')#目标excel\n",
    "    \n",
    "    csv = pd.read_csv(excel_file, encoding='utf-8')\n",
    "    csv.to_excel(csv_file, sheet_name='data')#目标excel\n",
    "    \n",
    "  \n"
   ],
   "outputs": [],
   "metadata": {}
  },
  {
   "cell_type": "code",
   "execution_count": 31,
   "source": [
    "if __name__ == '__main__':\n",
    "    csv_to_xlsx_pd('/Users/minli/Desktop/_select_from_select_select_distinct_ecom_site_id_from_gnpd_his_h_202108171759.csv','/Users/minli/Desktop/to_sql.xlsx')"
   ],
   "outputs": [],
   "metadata": {}
  },
  {
   "cell_type": "code",
   "execution_count": 32,
   "source": [
    "def xlsx_to_csv_pd(excel_file,csv_file):\n",
    "    \n",
    "    excel_file = ('''%s''' %(excel_file))\n",
    "    csv_file = ('''%s''' %(csv_file))\n",
    "    data_xls = pd.read_excel(excel_file, index_col=0)\n",
    "    data_xls.to_csv(csv_file, encoding='utf-8')"
   ],
   "outputs": [],
   "metadata": {}
  },
  {
   "cell_type": "code",
   "execution_count": 34,
   "source": [
    "if __name__ == '__main__':\n",
    " xlsx_to_csv_pd('/Users/minli/Desktop/to_sql.xlsx','/Users/minli/Desktop/testing.csv')\n",
    " "
   ],
   "outputs": [],
   "metadata": {}
  }
 ],
 "metadata": {
  "orig_nbformat": 4,
  "language_info": {
   "name": "python",
   "version": "3.8.8",
   "mimetype": "text/x-python",
   "codemirror_mode": {
    "name": "ipython",
    "version": 3
   },
   "pygments_lexer": "ipython3",
   "nbconvert_exporter": "python",
   "file_extension": ".py"
  },
  "kernelspec": {
   "name": "python3",
   "display_name": "Python 3.8.8 64-bit ('base': conda)"
  },
  "interpreter": {
   "hash": "e134e05457d34029b6460cd73bbf1ed73f339b5b6d98c95be70b69eba114fe95"
  }
 },
 "nbformat": 4,
 "nbformat_minor": 2
}